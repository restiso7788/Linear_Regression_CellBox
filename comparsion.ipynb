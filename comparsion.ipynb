{
  "nbformat": 4,
  "nbformat_minor": 0,
  "metadata": {
    "colab": {
      "name": "comparsion.ipynb",
      "provenance": [],
      "authorship_tag": "ABX9TyPDkbr3UP8xTrpyQ28OX1Kf",
      "include_colab_link": true
    },
    "kernelspec": {
      "name": "python3",
      "display_name": "Python 3"
    },
    "language_info": {
      "name": "python"
    }
  },
  "cells": [
    {
      "cell_type": "markdown",
      "metadata": {
        "id": "view-in-github",
        "colab_type": "text"
      },
      "source": [
        "<a href=\"https://colab.research.google.com/github/restiso7788/Linear_Regression_CellBox/blob/main/comparsion.ipynb\" target=\"_parent\"><img src=\"https://colab.research.google.com/assets/colab-badge.svg\" alt=\"Open In Colab\"/></a>"
      ]
    },
    {
      "cell_type": "code",
      "execution_count": null,
      "metadata": {
        "id": "kFdOxtWIKP0R"
      },
      "outputs": [],
      "source": [
        "import pandas as pd\n",
        "import numpy as np\n",
        "import matplotlib\n",
        "import matplotlib.pyplot as plt\n",
        "import seaborn as sns\n",
        "import glob\n",
        "import ast \n",
        "from matplotlib.lines import Line2D\n",
        "from sklearn.linear_model import LinearRegression\n",
        "from sklearn.model_selection import train_test_split"
      ]
    },
    {
      "cell_type": "code",
      "source": [
        "df = pd.read_csv(\"/content/expert.csv\")\n",
        "#remove the index column\n",
        "df =df.iloc[:,1:]\n",
        "df929 = pd.read_csv(\"/content/random_partition_average_testhat_929.csv\")\n",
        "df929 = df929.iloc[:,1:]"
      ],
      "metadata": {
        "id": "pr-L0XVAKUKO"
      },
      "execution_count": null,
      "outputs": []
    },
    {
      "cell_type": "code",
      "source": [
        "new_df = pd.DataFrame()\n",
        "for _ in range(1000):\n",
        "  Y = df.iloc[:,:-12]\n",
        "  X = df.iloc[:,-12:]\n",
        "  X_train, X_test, Y_train, Y_test = train_test_split(X, Y, test_size=.3)\n",
        "  lr = LinearRegression().fit(X_train, Y_train)\n",
        "  y_hat = lr.predict(X_test)\n",
        "  y_hat = pd.DataFrame(y_hat)\n",
        "  #df = df.reindex(np.random.permutation(df.index))\n",
        "  y_hat.index = X_test.index\n",
        "  new_df = pd.concat([new_df, y_hat],axis = 0)\n",
        "print(new_df.shape)\n",
        "\n",
        "df2 = new_df.groupby(new_df.index).mean()\n",
        "df2.head()"
      ],
      "metadata": {
        "colab": {
          "base_uri": "https://localhost:8080/",
          "height": 317
        },
        "id": "3o8CWyxdMCjt",
        "outputId": "5ff57edf-ad7a-4dfd-a823-7fa6ce96cb24"
      },
      "execution_count": null,
      "outputs": [
        {
          "output_type": "stream",
          "name": "stdout",
          "text": [
            "(27000, 87)\n"
          ]
        },
        {
          "output_type": "execute_result",
          "data": {
            "text/plain": [
              "         0         1         2         3         4         5         6   \\\n",
              "0 -0.322445 -0.586341 -0.772930 -0.553951 -0.046976 -0.121943  0.111569   \n",
              "1 -0.444694 -0.504332 -0.997343 -0.491016 -0.189736  0.054832  0.124520   \n",
              "2 -0.451063 -0.619969 -0.874983 -0.621331 -0.173732 -0.070704  0.023002   \n",
              "3 -0.282276 -0.652577 -0.925440 -0.561105 -0.058889 -0.115820  0.068448   \n",
              "4 -0.370929 -0.855759 -1.342976 -1.106763 -0.110386 -0.223425  0.312721   \n",
              "\n",
              "         7         8         9   ...        77        78        79        80  \\\n",
              "0  0.033958  0.402401  0.462835  ... -0.103575  0.007559  0.134415  0.067056   \n",
              "1  0.044228  0.103073  0.577800  ... -0.120944  0.009563  0.207592 -0.054560   \n",
              "2  0.021037  0.246623  0.412158  ... -0.064786  0.002432  0.077234  0.044581   \n",
              "3  0.133110  0.230487  0.436426  ... -0.072032 -0.016177  0.093191  0.058058   \n",
              "4  0.299967  0.410960  0.573712  ... -0.041412  0.010767  0.193741  0.074955   \n",
              "\n",
              "         81        82        83        84        85        86  \n",
              "0  0.189398  0.031940  0.450627  0.002452  0.026161  0.187259  \n",
              "1  0.052315 -0.029427  0.365697  1.489735 -0.125129  0.291188  \n",
              "2  0.239896  0.216004  0.380875  0.159626  0.079566  0.255892  \n",
              "3  0.184374  0.206585  0.426997  0.056261  0.046760  0.469388  \n",
              "4  0.287985 -0.155198  0.679030 -0.020818 -0.002264  0.662311  \n",
              "\n",
              "[5 rows x 87 columns]"
            ],
            "text/html": [
              "\n",
              "  <div id=\"df-7a2283fe-9ae6-4c69-bac6-ab34073b996b\">\n",
              "    <div class=\"colab-df-container\">\n",
              "      <div>\n",
              "<style scoped>\n",
              "    .dataframe tbody tr th:only-of-type {\n",
              "        vertical-align: middle;\n",
              "    }\n",
              "\n",
              "    .dataframe tbody tr th {\n",
              "        vertical-align: top;\n",
              "    }\n",
              "\n",
              "    .dataframe thead th {\n",
              "        text-align: right;\n",
              "    }\n",
              "</style>\n",
              "<table border=\"1\" class=\"dataframe\">\n",
              "  <thead>\n",
              "    <tr style=\"text-align: right;\">\n",
              "      <th></th>\n",
              "      <th>0</th>\n",
              "      <th>1</th>\n",
              "      <th>2</th>\n",
              "      <th>3</th>\n",
              "      <th>4</th>\n",
              "      <th>5</th>\n",
              "      <th>6</th>\n",
              "      <th>7</th>\n",
              "      <th>8</th>\n",
              "      <th>9</th>\n",
              "      <th>...</th>\n",
              "      <th>77</th>\n",
              "      <th>78</th>\n",
              "      <th>79</th>\n",
              "      <th>80</th>\n",
              "      <th>81</th>\n",
              "      <th>82</th>\n",
              "      <th>83</th>\n",
              "      <th>84</th>\n",
              "      <th>85</th>\n",
              "      <th>86</th>\n",
              "    </tr>\n",
              "  </thead>\n",
              "  <tbody>\n",
              "    <tr>\n",
              "      <th>0</th>\n",
              "      <td>-0.322445</td>\n",
              "      <td>-0.586341</td>\n",
              "      <td>-0.772930</td>\n",
              "      <td>-0.553951</td>\n",
              "      <td>-0.046976</td>\n",
              "      <td>-0.121943</td>\n",
              "      <td>0.111569</td>\n",
              "      <td>0.033958</td>\n",
              "      <td>0.402401</td>\n",
              "      <td>0.462835</td>\n",
              "      <td>...</td>\n",
              "      <td>-0.103575</td>\n",
              "      <td>0.007559</td>\n",
              "      <td>0.134415</td>\n",
              "      <td>0.067056</td>\n",
              "      <td>0.189398</td>\n",
              "      <td>0.031940</td>\n",
              "      <td>0.450627</td>\n",
              "      <td>0.002452</td>\n",
              "      <td>0.026161</td>\n",
              "      <td>0.187259</td>\n",
              "    </tr>\n",
              "    <tr>\n",
              "      <th>1</th>\n",
              "      <td>-0.444694</td>\n",
              "      <td>-0.504332</td>\n",
              "      <td>-0.997343</td>\n",
              "      <td>-0.491016</td>\n",
              "      <td>-0.189736</td>\n",
              "      <td>0.054832</td>\n",
              "      <td>0.124520</td>\n",
              "      <td>0.044228</td>\n",
              "      <td>0.103073</td>\n",
              "      <td>0.577800</td>\n",
              "      <td>...</td>\n",
              "      <td>-0.120944</td>\n",
              "      <td>0.009563</td>\n",
              "      <td>0.207592</td>\n",
              "      <td>-0.054560</td>\n",
              "      <td>0.052315</td>\n",
              "      <td>-0.029427</td>\n",
              "      <td>0.365697</td>\n",
              "      <td>1.489735</td>\n",
              "      <td>-0.125129</td>\n",
              "      <td>0.291188</td>\n",
              "    </tr>\n",
              "    <tr>\n",
              "      <th>2</th>\n",
              "      <td>-0.451063</td>\n",
              "      <td>-0.619969</td>\n",
              "      <td>-0.874983</td>\n",
              "      <td>-0.621331</td>\n",
              "      <td>-0.173732</td>\n",
              "      <td>-0.070704</td>\n",
              "      <td>0.023002</td>\n",
              "      <td>0.021037</td>\n",
              "      <td>0.246623</td>\n",
              "      <td>0.412158</td>\n",
              "      <td>...</td>\n",
              "      <td>-0.064786</td>\n",
              "      <td>0.002432</td>\n",
              "      <td>0.077234</td>\n",
              "      <td>0.044581</td>\n",
              "      <td>0.239896</td>\n",
              "      <td>0.216004</td>\n",
              "      <td>0.380875</td>\n",
              "      <td>0.159626</td>\n",
              "      <td>0.079566</td>\n",
              "      <td>0.255892</td>\n",
              "    </tr>\n",
              "    <tr>\n",
              "      <th>3</th>\n",
              "      <td>-0.282276</td>\n",
              "      <td>-0.652577</td>\n",
              "      <td>-0.925440</td>\n",
              "      <td>-0.561105</td>\n",
              "      <td>-0.058889</td>\n",
              "      <td>-0.115820</td>\n",
              "      <td>0.068448</td>\n",
              "      <td>0.133110</td>\n",
              "      <td>0.230487</td>\n",
              "      <td>0.436426</td>\n",
              "      <td>...</td>\n",
              "      <td>-0.072032</td>\n",
              "      <td>-0.016177</td>\n",
              "      <td>0.093191</td>\n",
              "      <td>0.058058</td>\n",
              "      <td>0.184374</td>\n",
              "      <td>0.206585</td>\n",
              "      <td>0.426997</td>\n",
              "      <td>0.056261</td>\n",
              "      <td>0.046760</td>\n",
              "      <td>0.469388</td>\n",
              "    </tr>\n",
              "    <tr>\n",
              "      <th>4</th>\n",
              "      <td>-0.370929</td>\n",
              "      <td>-0.855759</td>\n",
              "      <td>-1.342976</td>\n",
              "      <td>-1.106763</td>\n",
              "      <td>-0.110386</td>\n",
              "      <td>-0.223425</td>\n",
              "      <td>0.312721</td>\n",
              "      <td>0.299967</td>\n",
              "      <td>0.410960</td>\n",
              "      <td>0.573712</td>\n",
              "      <td>...</td>\n",
              "      <td>-0.041412</td>\n",
              "      <td>0.010767</td>\n",
              "      <td>0.193741</td>\n",
              "      <td>0.074955</td>\n",
              "      <td>0.287985</td>\n",
              "      <td>-0.155198</td>\n",
              "      <td>0.679030</td>\n",
              "      <td>-0.020818</td>\n",
              "      <td>-0.002264</td>\n",
              "      <td>0.662311</td>\n",
              "    </tr>\n",
              "  </tbody>\n",
              "</table>\n",
              "<p>5 rows × 87 columns</p>\n",
              "</div>\n",
              "      <button class=\"colab-df-convert\" onclick=\"convertToInteractive('df-7a2283fe-9ae6-4c69-bac6-ab34073b996b')\"\n",
              "              title=\"Convert this dataframe to an interactive table.\"\n",
              "              style=\"display:none;\">\n",
              "        \n",
              "  <svg xmlns=\"http://www.w3.org/2000/svg\" height=\"24px\"viewBox=\"0 0 24 24\"\n",
              "       width=\"24px\">\n",
              "    <path d=\"M0 0h24v24H0V0z\" fill=\"none\"/>\n",
              "    <path d=\"M18.56 5.44l.94 2.06.94-2.06 2.06-.94-2.06-.94-.94-2.06-.94 2.06-2.06.94zm-11 1L8.5 8.5l.94-2.06 2.06-.94-2.06-.94L8.5 2.5l-.94 2.06-2.06.94zm10 10l.94 2.06.94-2.06 2.06-.94-2.06-.94-.94-2.06-.94 2.06-2.06.94z\"/><path d=\"M17.41 7.96l-1.37-1.37c-.4-.4-.92-.59-1.43-.59-.52 0-1.04.2-1.43.59L10.3 9.45l-7.72 7.72c-.78.78-.78 2.05 0 2.83L4 21.41c.39.39.9.59 1.41.59.51 0 1.02-.2 1.41-.59l7.78-7.78 2.81-2.81c.8-.78.8-2.07 0-2.86zM5.41 20L4 18.59l7.72-7.72 1.47 1.35L5.41 20z\"/>\n",
              "  </svg>\n",
              "      </button>\n",
              "      \n",
              "  <style>\n",
              "    .colab-df-container {\n",
              "      display:flex;\n",
              "      flex-wrap:wrap;\n",
              "      gap: 12px;\n",
              "    }\n",
              "\n",
              "    .colab-df-convert {\n",
              "      background-color: #E8F0FE;\n",
              "      border: none;\n",
              "      border-radius: 50%;\n",
              "      cursor: pointer;\n",
              "      display: none;\n",
              "      fill: #1967D2;\n",
              "      height: 32px;\n",
              "      padding: 0 0 0 0;\n",
              "      width: 32px;\n",
              "    }\n",
              "\n",
              "    .colab-df-convert:hover {\n",
              "      background-color: #E2EBFA;\n",
              "      box-shadow: 0px 1px 2px rgba(60, 64, 67, 0.3), 0px 1px 3px 1px rgba(60, 64, 67, 0.15);\n",
              "      fill: #174EA6;\n",
              "    }\n",
              "\n",
              "    [theme=dark] .colab-df-convert {\n",
              "      background-color: #3B4455;\n",
              "      fill: #D2E3FC;\n",
              "    }\n",
              "\n",
              "    [theme=dark] .colab-df-convert:hover {\n",
              "      background-color: #434B5C;\n",
              "      box-shadow: 0px 1px 3px 1px rgba(0, 0, 0, 0.15);\n",
              "      filter: drop-shadow(0px 1px 2px rgba(0, 0, 0, 0.3));\n",
              "      fill: #FFFFFF;\n",
              "    }\n",
              "  </style>\n",
              "\n",
              "      <script>\n",
              "        const buttonEl =\n",
              "          document.querySelector('#df-7a2283fe-9ae6-4c69-bac6-ab34073b996b button.colab-df-convert');\n",
              "        buttonEl.style.display =\n",
              "          google.colab.kernel.accessAllowed ? 'block' : 'none';\n",
              "\n",
              "        async function convertToInteractive(key) {\n",
              "          const element = document.querySelector('#df-7a2283fe-9ae6-4c69-bac6-ab34073b996b');\n",
              "          const dataTable =\n",
              "            await google.colab.kernel.invokeFunction('convertToInteractive',\n",
              "                                                     [key], {});\n",
              "          if (!dataTable) return;\n",
              "\n",
              "          const docLinkHtml = 'Like what you see? Visit the ' +\n",
              "            '<a target=\"_blank\" href=https://colab.research.google.com/notebooks/data_table.ipynb>data table notebook</a>'\n",
              "            + ' to learn more about interactive tables.';\n",
              "          element.innerHTML = '';\n",
              "          dataTable['output_type'] = 'display_data';\n",
              "          await google.colab.output.renderOutput(dataTable, element);\n",
              "          const docLink = document.createElement('div');\n",
              "          docLink.innerHTML = docLinkHtml;\n",
              "          element.appendChild(docLink);\n",
              "        }\n",
              "      </script>\n",
              "    </div>\n",
              "  </div>\n",
              "  "
            ]
          },
          "metadata": {},
          "execution_count": 3
        }
      ]
    },
    {
      "cell_type": "code",
      "source": [
        "x = df.iloc[:,-12:]"
      ],
      "metadata": {
        "id": "CoGyFYoWNZd6"
      },
      "execution_count": null,
      "outputs": []
    },
    {
      "cell_type": "code",
      "source": [
        "df2 = pd.concat([df2,x],axis = 1, join = \"inner\")\n",
        "df2.shape"
      ],
      "metadata": {
        "colab": {
          "base_uri": "https://localhost:8080/"
        },
        "id": "g5yVqDg6MO6A",
        "outputId": "851a6b4a-9bb9-4cdf-cbf3-ceff062276c9"
      },
      "execution_count": null,
      "outputs": [
        {
          "output_type": "execute_result",
          "data": {
            "text/plain": [
              "(89, 99)"
            ]
          },
          "metadata": {},
          "execution_count": 5
        }
      ]
    },
    {
      "cell_type": "code",
      "source": [
        "x_all = df2.values.flatten()\n",
        "y_all = df929.values.flatten()\n",
        "\n",
        "x_prot = df2.iloc[:,0:82]\n",
        "y_prot = df929.iloc[:,0:82]\n",
        "x_pheno = df2.iloc[:,82:87]\n",
        "y_pheno = df929.iloc[:,82:87]\n",
        "plt.scatter(x_prot, y_prot, s = 15, alpha = 0.7, color=\"darkorange\",zorder=3)\n",
        "\n",
        "plt.scatter(x_pheno, y_pheno, s = 15, alpha = 0.7, color=\"#3D6CA3\",zorder=4)\n",
        "\n",
        "plt.legend([\"Molecular nodes\",\"Phenotypic nodes\"], loc=\"lower right\", frameon=False,\n",
        "          handletextpad=0.1)\n",
        "plt.plot([-10, 10], [-10, 10], c = 'white', alpha = 0, ls = '--')\n",
        "\n",
        "#sns.regplot(x_all, y_all, scatter_kws={'s': 15, 'alpha': 0},line_kws={'color': 'orange', 'alpha': 1})\n",
        "sns.regplot(x_all, y_all, scatter_kws={'s': 15, 'alpha': 0},line_kws={'color': 'black', 'alpha': 1})\n",
        "\n",
        "plt.xticks(np.arange(-6,3))\n",
        "plt.yticks(np.arange(-6,3))\n",
        "\n",
        "\n",
        "lower = np.min([x_all, y_all])\n",
        "upper = np.max([x_all, y_all])\n",
        "plt.xlim([lower*1.2, upper*0.9])\n",
        "plt.ylim([lower*1.2, upper*0.9])\n",
        "\n",
        "r = np.corrcoef(x_all, y_all)[0][1]\n",
        "plt.text(x = -5.6, y= 1.6, s='Pearson\\'s correlation: ρ=%1.3f'%r,\n",
        "        size = 13)\n",
        "plt.xlabel('predicted value from linear regression')\n",
        "plt.ylabel('predicted value from CellBox')\n",
        "plt.title(\"Correlation between linear regression and CellBox across all conditions\", \n",
        "          weight='bold', size=13)\n"
      ],
      "metadata": {
        "colab": {
          "base_uri": "https://localhost:8080/",
          "height": 367
        },
        "id": "r_N1BIe_0TFZ",
        "outputId": "94f08d28-27fa-4106-d926-98faa9a1749d"
      },
      "execution_count": null,
      "outputs": [
        {
          "output_type": "stream",
          "name": "stderr",
          "text": [
            "/usr/local/lib/python3.7/dist-packages/seaborn/_decorators.py:43: FutureWarning: Pass the following variables as keyword args: x, y. From version 0.12, the only valid positional argument will be `data`, and passing other arguments without an explicit keyword will result in an error or misinterpretation.\n",
            "  FutureWarning\n"
          ]
        },
        {
          "output_type": "execute_result",
          "data": {
            "text/plain": [
              "Text(0.5, 1.0, 'Correlation between linear regression and CellBox across all conditions')"
            ]
          },
          "metadata": {},
          "execution_count": 12
        },
        {
          "output_type": "display_data",
          "data": {
            "text/plain": [
              "<Figure size 432x288 with 1 Axes>"
            ],
            "image/png": "[encoded data removed]"
          },
          "metadata": {
            "needs_background": "light"
          }
        }
      ]
    }
  ]
}
