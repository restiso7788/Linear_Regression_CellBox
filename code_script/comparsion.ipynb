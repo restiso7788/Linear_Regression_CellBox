{
 "cells": [
  {
   "cell_type": "code",
   "execution_count": 1,
   "metadata": {
    "id": "kFdOxtWIKP0R"
   },
   "outputs": [],
   "source": [
    "import pandas as pd\n",
    "import numpy as np\n",
    "import matplotlib\n",
    "import matplotlib.pyplot as plt\n",
    "import seaborn as sns\n",
    "import glob\n",
    "import ast \n",
    "import os\n",
    "from matplotlib.lines import Line2D\n",
    "from sklearn.linear_model import LinearRegression\n",
    "from sklearn.model_selection import train_test_split"
   ]
  },
  {
   "cell_type": "code",
   "execution_count": 2,
   "metadata": {
    "id": "pr-L0XVAKUKO"
   },
   "outputs": [],
   "source": [
    "root = os.getcwd()\n",
    "df = pd.read_csv(root+'/../data/expert.csv')\n",
    "df929 = pd.read_csv(root+'/../data/random_partition_average_testhat_929.csv')"
   ]
  },
  {
   "cell_type": "code",
   "execution_count": 3,
   "metadata": {
    "colab": {
     "base_uri": "https://localhost:8080/",
     "height": 317
    },
    "id": "3o8CWyxdMCjt",
    "outputId": "5ff57edf-ad7a-4dfd-a823-7fa6ce96cb24"
   },
   "outputs": [
    {
     "name": "stdout",
     "output_type": "stream",
     "text": [
      "(27000, 87)\n"
     ]
    },
    {
     "data": {
      "text/html": [
       "<div>\n",
       "<style scoped>\n",
       "    .dataframe tbody tr th:only-of-type {\n",
       "        vertical-align: middle;\n",
       "    }\n",
       "\n",
       "    .dataframe tbody tr th {\n",
       "        vertical-align: top;\n",
       "    }\n",
       "\n",
       "    .dataframe thead th {\n",
       "        text-align: right;\n",
       "    }\n",
       "</style>\n",
       "<table border=\"1\" class=\"dataframe\">\n",
       "  <thead>\n",
       "    <tr style=\"text-align: right;\">\n",
       "      <th></th>\n",
       "      <th>0</th>\n",
       "      <th>1</th>\n",
       "      <th>2</th>\n",
       "      <th>3</th>\n",
       "      <th>4</th>\n",
       "      <th>5</th>\n",
       "      <th>6</th>\n",
       "      <th>7</th>\n",
       "      <th>8</th>\n",
       "      <th>9</th>\n",
       "      <th>...</th>\n",
       "      <th>77</th>\n",
       "      <th>78</th>\n",
       "      <th>79</th>\n",
       "      <th>80</th>\n",
       "      <th>81</th>\n",
       "      <th>82</th>\n",
       "      <th>83</th>\n",
       "      <th>84</th>\n",
       "      <th>85</th>\n",
       "      <th>86</th>\n",
       "    </tr>\n",
       "  </thead>\n",
       "  <tbody>\n",
       "    <tr>\n",
       "      <th>0</th>\n",
       "      <td>-0.325272</td>\n",
       "      <td>-0.594653</td>\n",
       "      <td>-0.778631</td>\n",
       "      <td>-0.559506</td>\n",
       "      <td>-0.049712</td>\n",
       "      <td>-0.122504</td>\n",
       "      <td>0.112488</td>\n",
       "      <td>0.031845</td>\n",
       "      <td>0.404856</td>\n",
       "      <td>0.464636</td>\n",
       "      <td>...</td>\n",
       "      <td>-0.102794</td>\n",
       "      <td>0.005616</td>\n",
       "      <td>0.134709</td>\n",
       "      <td>0.064168</td>\n",
       "      <td>0.187661</td>\n",
       "      <td>0.031636</td>\n",
       "      <td>0.459060</td>\n",
       "      <td>-0.000425</td>\n",
       "      <td>0.023150</td>\n",
       "      <td>0.194529</td>\n",
       "    </tr>\n",
       "    <tr>\n",
       "      <th>1</th>\n",
       "      <td>-0.443472</td>\n",
       "      <td>-0.501390</td>\n",
       "      <td>-0.998874</td>\n",
       "      <td>-0.490441</td>\n",
       "      <td>-0.193012</td>\n",
       "      <td>0.053271</td>\n",
       "      <td>0.132526</td>\n",
       "      <td>0.046416</td>\n",
       "      <td>0.104802</td>\n",
       "      <td>0.573083</td>\n",
       "      <td>...</td>\n",
       "      <td>-0.123293</td>\n",
       "      <td>0.012541</td>\n",
       "      <td>0.202487</td>\n",
       "      <td>-0.056385</td>\n",
       "      <td>0.050613</td>\n",
       "      <td>-0.030876</td>\n",
       "      <td>0.363396</td>\n",
       "      <td>1.488718</td>\n",
       "      <td>-0.128555</td>\n",
       "      <td>0.297915</td>\n",
       "    </tr>\n",
       "    <tr>\n",
       "      <th>2</th>\n",
       "      <td>-0.453750</td>\n",
       "      <td>-0.622133</td>\n",
       "      <td>-0.875656</td>\n",
       "      <td>-0.623778</td>\n",
       "      <td>-0.176299</td>\n",
       "      <td>-0.070438</td>\n",
       "      <td>0.019901</td>\n",
       "      <td>0.021557</td>\n",
       "      <td>0.250733</td>\n",
       "      <td>0.412681</td>\n",
       "      <td>...</td>\n",
       "      <td>-0.064665</td>\n",
       "      <td>0.001600</td>\n",
       "      <td>0.076434</td>\n",
       "      <td>0.043301</td>\n",
       "      <td>0.240858</td>\n",
       "      <td>0.220945</td>\n",
       "      <td>0.382409</td>\n",
       "      <td>0.155630</td>\n",
       "      <td>0.079592</td>\n",
       "      <td>0.250943</td>\n",
       "    </tr>\n",
       "    <tr>\n",
       "      <th>3</th>\n",
       "      <td>-0.286421</td>\n",
       "      <td>-0.651768</td>\n",
       "      <td>-0.928433</td>\n",
       "      <td>-0.561911</td>\n",
       "      <td>-0.058064</td>\n",
       "      <td>-0.113389</td>\n",
       "      <td>0.064293</td>\n",
       "      <td>0.130900</td>\n",
       "      <td>0.234181</td>\n",
       "      <td>0.436583</td>\n",
       "      <td>...</td>\n",
       "      <td>-0.069313</td>\n",
       "      <td>-0.018872</td>\n",
       "      <td>0.096469</td>\n",
       "      <td>0.056001</td>\n",
       "      <td>0.184722</td>\n",
       "      <td>0.207964</td>\n",
       "      <td>0.425529</td>\n",
       "      <td>0.061343</td>\n",
       "      <td>0.048276</td>\n",
       "      <td>0.460184</td>\n",
       "    </tr>\n",
       "    <tr>\n",
       "      <th>4</th>\n",
       "      <td>-0.378348</td>\n",
       "      <td>-0.863770</td>\n",
       "      <td>-1.347423</td>\n",
       "      <td>-1.110955</td>\n",
       "      <td>-0.115076</td>\n",
       "      <td>-0.219796</td>\n",
       "      <td>0.315328</td>\n",
       "      <td>0.290586</td>\n",
       "      <td>0.416454</td>\n",
       "      <td>0.571893</td>\n",
       "      <td>...</td>\n",
       "      <td>-0.044506</td>\n",
       "      <td>0.006022</td>\n",
       "      <td>0.196256</td>\n",
       "      <td>0.071735</td>\n",
       "      <td>0.289397</td>\n",
       "      <td>-0.161656</td>\n",
       "      <td>0.686654</td>\n",
       "      <td>-0.022052</td>\n",
       "      <td>-0.006657</td>\n",
       "      <td>0.657212</td>\n",
       "    </tr>\n",
       "  </tbody>\n",
       "</table>\n",
       "<p>5 rows × 87 columns</p>\n",
       "</div>"
      ],
      "text/plain": [
       "         0         1         2         3         4         5         6   \\\n",
       "0 -0.325272 -0.594653 -0.778631 -0.559506 -0.049712 -0.122504  0.112488   \n",
       "1 -0.443472 -0.501390 -0.998874 -0.490441 -0.193012  0.053271  0.132526   \n",
       "2 -0.453750 -0.622133 -0.875656 -0.623778 -0.176299 -0.070438  0.019901   \n",
       "3 -0.286421 -0.651768 -0.928433 -0.561911 -0.058064 -0.113389  0.064293   \n",
       "4 -0.378348 -0.863770 -1.347423 -1.110955 -0.115076 -0.219796  0.315328   \n",
       "\n",
       "         7         8         9   ...        77        78        79        80  \\\n",
       "0  0.031845  0.404856  0.464636  ... -0.102794  0.005616  0.134709  0.064168   \n",
       "1  0.046416  0.104802  0.573083  ... -0.123293  0.012541  0.202487 -0.056385   \n",
       "2  0.021557  0.250733  0.412681  ... -0.064665  0.001600  0.076434  0.043301   \n",
       "3  0.130900  0.234181  0.436583  ... -0.069313 -0.018872  0.096469  0.056001   \n",
       "4  0.290586  0.416454  0.571893  ... -0.044506  0.006022  0.196256  0.071735   \n",
       "\n",
       "         81        82        83        84        85        86  \n",
       "0  0.187661  0.031636  0.459060 -0.000425  0.023150  0.194529  \n",
       "1  0.050613 -0.030876  0.363396  1.488718 -0.128555  0.297915  \n",
       "2  0.240858  0.220945  0.382409  0.155630  0.079592  0.250943  \n",
       "3  0.184722  0.207964  0.425529  0.061343  0.048276  0.460184  \n",
       "4  0.289397 -0.161656  0.686654 -0.022052 -0.006657  0.657212  \n",
       "\n",
       "[5 rows x 87 columns]"
      ]
     },
     "execution_count": 3,
     "metadata": {},
     "output_type": "execute_result"
    }
   ],
   "source": [
    "new_df = pd.DataFrame()\n",
    "for _ in range(1000):\n",
    "  Y = df.iloc[:,:-12]\n",
    "  X = df.iloc[:,-12:]\n",
    "  X_train, X_test, Y_train, Y_test = train_test_split(X, Y, test_size=.3)\n",
    "  lr = LinearRegression().fit(X_train, Y_train)\n",
    "  y_hat = lr.predict(X_test)\n",
    "  y_hat = pd.DataFrame(y_hat)\n",
    "  #df = df.reindex(np.random.permutation(df.index))\n",
    "  y_hat.index = X_test.index\n",
    "  new_df = pd.concat([new_df, y_hat],axis = 0)\n",
    "print(new_df.shape)\n",
    "\n",
    "df2 = new_df.groupby(new_df.index).mean()\n",
    "df2.head()"
   ]
  },
  {
   "cell_type": "code",
   "execution_count": 4,
   "metadata": {
    "id": "CoGyFYoWNZd6"
   },
   "outputs": [],
   "source": [
    "x = df.iloc[:,-12:]"
   ]
  },
  {
   "cell_type": "code",
   "execution_count": 5,
   "metadata": {
    "colab": {
     "base_uri": "https://localhost:8080/"
    },
    "id": "g5yVqDg6MO6A",
    "outputId": "851a6b4a-9bb9-4cdf-cbf3-ceff062276c9"
   },
   "outputs": [
    {
     "data": {
      "text/plain": [
       "(89, 99)"
      ]
     },
     "execution_count": 5,
     "metadata": {},
     "output_type": "execute_result"
    }
   ],
   "source": [
    "df2 = pd.concat([df2,x],axis = 1, join = \"inner\")\n",
    "df2.shape"
   ]
  },
  {
   "cell_type": "code",
   "execution_count": 6,
   "metadata": {
    "colab": {
     "base_uri": "https://localhost:8080/",
     "height": 367
    },
    "id": "r_N1BIe_0TFZ",
    "outputId": "94f08d28-27fa-4106-d926-98faa9a1749d"
   },
   "outputs": [
    {
     "data": {
      "text/plain": [
       "Text(0, 0.5, 'predicted value from CellBox')"
      ]
     },
     "execution_count": 6,
     "metadata": {},
     "output_type": "execute_result"
    },
    {
     "data": {
      "image/png": "[encoded data removed]",
      "text/plain": [
       "<Figure size 432x288 with 1 Axes>"
      ]
     },
     "metadata": {
      "needs_background": "light"
     },
     "output_type": "display_data"
    }
   ],
   "source": [
    "x_all = df2.values.flatten()\n",
    "y_all = df929.values.flatten()\n",
    "\n",
    "x_prot = df2.iloc[:,0:82]\n",
    "y_prot = df929.iloc[:,0:82]\n",
    "x_pheno = df2.iloc[:,82:87]\n",
    "y_pheno = df929.iloc[:,82:87]\n",
    "plt.scatter(x_prot, y_prot, s = 15, alpha = 0.7, color=\"darkorange\",zorder=3)\n",
    "\n",
    "plt.scatter(x_pheno, y_pheno, s = 15, alpha = 0.7, color=\"#3D6CA3\",zorder=4)\n",
    "\n",
    "plt.legend([\"Molecular nodes\",\"Phenotypic nodes\"], loc=\"lower right\", frameon=False,\n",
    "          handletextpad=0.1)\n",
    "plt.plot([-10, 10], [-10, 10], c = 'white', alpha = 0, ls = '--')\n",
    "\n",
    "#sns.regplot(x_all, y_all, scatter_kws={'s': 15, 'alpha': 0},line_kws={'color': 'orange', 'alpha': 1})\n",
    "sns.regplot(x_all, y_all, scatter_kws={'s': 15, 'alpha': 0},line_kws={'color': 'black', 'alpha': 1})\n",
    "\n",
    "plt.xticks(np.arange(-6,3))\n",
    "plt.yticks(np.arange(-6,3))\n",
    "\n",
    "\n",
    "lower = np.min([x_all, y_all])\n",
    "upper = np.max([x_all, y_all])\n",
    "plt.xlim([lower*1.2, upper*0.9])\n",
    "plt.ylim([lower*1.2, upper*0.9])\n",
    "\n",
    "r = np.corrcoef(x_all, y_all)[0][1]\n",
    "plt.text(x = -5.6, y= 1.6, s='Pearson\\'s correlation: ρ=%1.3f'%r,\n",
    "        size = 13)\n",
    "plt.xlabel('predicted value from linear regression')\n",
    "plt.ylabel('predicted value from CellBox')\n",
    "#plt.title(\"Correlation between linear regression and CellBox across all conditions\", \n",
    "#          weight='bold', size=13)\n"
   ]
  },
  {
   "cell_type": "code",
   "execution_count": null,
   "metadata": {},
   "outputs": [],
   "source": []
  }
 ],
 "metadata": {
  "colab": {
   "authorship_tag": "ABX9TyPDkbr3UP8xTrpyQ28OX1Kf",
   "include_colab_link": true,
   "name": "comparsion.ipynb",
   "provenance": []
  },
  "interpreter": {
   "hash": "dca0ade3e726a953b501b15e8e990130d2b7799f14cfd9f4271676035ebe5511"
  },
  "kernelspec": {
   "display_name": "Python 3",
   "language": "python",
   "name": "python3"
  },
  "language_info": {
   "codemirror_mode": {
    "name": "ipython",
    "version": 3
   },
   "file_extension": ".py",
   "mimetype": "text/x-python",
   "name": "python",
   "nbconvert_exporter": "python",
   "pygments_lexer": "ipython3",
   "version": "3.8.3"
  }
 },
 "nbformat": 4,
 "nbformat_minor": 2
}
