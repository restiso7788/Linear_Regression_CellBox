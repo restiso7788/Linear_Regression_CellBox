{
  "nbformat": 4,
  "nbformat_minor": 0,
  "metadata": {
    "colab": {
      "name": "comparsion.ipynb",
      "provenance": [],
      "authorship_tag": "ABX9TyNlUo2K0AO1jgBkd3V5Z+sD",
      "include_colab_link": true
    },
    "kernelspec": {
      "name": "python3",
      "display_name": "Python 3"
    },
    "language_info": {
      "name": "python"
    }
  },
  "cells": [
    {
      "cell_type": "markdown",
      "metadata": {
        "id": "view-in-github",
        "colab_type": "text"
      },
      "source": [
        "<a href=\"https://colab.research.google.com/github/restiso7788/Linear_Regression_CellBox/blob/main/comparsion_lr_cellbox.ipynb\" target=\"_parent\"><img src=\"https://colab.research.google.com/assets/colab-badge.svg\" alt=\"Open In Colab\"/></a>"
      ]
    },
    {
      "cell_type": "code",
      "execution_count": 1,
      "metadata": {
        "id": "kFdOxtWIKP0R"
      },
      "outputs": [],
      "source": [
        "import pandas as pd\n",
        "import numpy as np\n",
        "import matplotlib\n",
        "import matplotlib.pyplot as plt\n",
        "import seaborn as sns\n",
        "import glob\n",
        "import ast \n",
        "from matplotlib.lines import Line2D\n",
        "from sklearn.linear_model import LinearRegression\n",
        "from sklearn.model_selection import train_test_split"
      ]
    },
    {
      "cell_type": "code",
      "source": [
        "df = pd.read_csv(\"/content/expert.csv\")\n",
        "#remove the index column\n",
        "df =df.iloc[:,1:]\n",
        "df929 = pd.read_csv(\"/content/random_partition_average_testhat_929.csv\")\n",
        "df929 = df929.iloc[:,1:]"
      ],
      "metadata": {
        "id": "pr-L0XVAKUKO"
      },
      "execution_count": 2,
      "outputs": []
    },
    {
      "cell_type": "code",
      "source": [
        "new_df = pd.DataFrame()\n",
        "for _ in range(1000):\n",
        "  Y = df.iloc[:,:-12]\n",
        "  X = df.iloc[:,-12:]\n",
        "  X_train, X_test, Y_train, Y_test = train_test_split(X, Y, test_size=.3)\n",
        "  lr = LinearRegression().fit(X_train, Y_train)\n",
        "  y_hat = lr.predict(X_test)\n",
        "  y_hat = pd.DataFrame(y_hat)\n",
        "  #df = df.reindex(np.random.permutation(df.index))\n",
        "  y_hat.index = X_test.index\n",
        "  new_df = pd.concat([new_df, y_hat],axis = 0)\n",
        "print(new_df.shape)\n",
        "\n",
        "df2 = new_df.groupby(new_df.index).mean()\n",
        "df2.head()"
      ],
      "metadata": {
        "colab": {
          "base_uri": "https://localhost:8080/",
          "height": 317
        },
        "id": "3o8CWyxdMCjt",
        "outputId": "41857fa5-babe-46a4-a07d-fd57b7e1a397"
      },
      "execution_count": 3,
      "outputs": [
        {
          "output_type": "stream",
          "name": "stdout",
          "text": [
            "(27000, 87)\n"
          ]
        },
        {
          "output_type": "execute_result",
          "data": {
            "text/plain": [
              "         0         1         2         3         4         5         6   \\\n",
              "0 -0.323906 -0.590645 -0.777881 -0.555652 -0.049839 -0.121549  0.116590   \n",
              "1 -0.440756 -0.501326 -0.996315 -0.488489 -0.190473  0.052967  0.130804   \n",
              "2 -0.451535 -0.622857 -0.877567 -0.621880 -0.175360 -0.069148  0.025664   \n",
              "3 -0.288202 -0.650488 -0.927606 -0.563611 -0.064531 -0.114565  0.068678   \n",
              "4 -0.373442 -0.869423 -1.349670 -1.110069 -0.112624 -0.221264  0.314691   \n",
              "\n",
              "         7         8         9   ...        77        78        79        80  \\\n",
              "0  0.029137  0.413304  0.463026  ... -0.100683  0.006228  0.136130  0.067715   \n",
              "1  0.046338  0.103096  0.576044  ... -0.123482  0.012981  0.204101 -0.053930   \n",
              "2  0.021471  0.244685  0.412359  ... -0.064980  0.001328  0.077339  0.042242   \n",
              "3  0.125050  0.234311  0.433489  ... -0.068969 -0.017909  0.092764  0.055316   \n",
              "4  0.296922  0.424882  0.576439  ... -0.037763  0.006266  0.196173  0.075003   \n",
              "\n",
              "         81        82        83        84        85        86  \n",
              "0  0.189429  0.029376  0.458917 -0.001089  0.023733  0.199730  \n",
              "1  0.051022 -0.028715  0.362782  1.490076 -0.124960  0.290407  \n",
              "2  0.237944  0.221067  0.384353  0.153181  0.078877  0.264344  \n",
              "3  0.186277  0.203879  0.425155  0.058096  0.046382  0.470265  \n",
              "4  0.290820 -0.156175  0.691829 -0.024050 -0.006595  0.639985  \n",
              "\n",
              "[5 rows x 87 columns]"
            ],
            "text/html": [
              "\n",
              "  <div id=\"df-955dad0f-7048-4ab2-b132-1b9c76302316\">\n",
              "    <div class=\"colab-df-container\">\n",
              "      <div>\n",
              "<style scoped>\n",
              "    .dataframe tbody tr th:only-of-type {\n",
              "        vertical-align: middle;\n",
              "    }\n",
              "\n",
              "    .dataframe tbody tr th {\n",
              "        vertical-align: top;\n",
              "    }\n",
              "\n",
              "    .dataframe thead th {\n",
              "        text-align: right;\n",
              "    }\n",
              "</style>\n",
              "<table border=\"1\" class=\"dataframe\">\n",
              "  <thead>\n",
              "    <tr style=\"text-align: right;\">\n",
              "      <th></th>\n",
              "      <th>0</th>\n",
              "      <th>1</th>\n",
              "      <th>2</th>\n",
              "      <th>3</th>\n",
              "      <th>4</th>\n",
              "      <th>5</th>\n",
              "      <th>6</th>\n",
              "      <th>7</th>\n",
              "      <th>8</th>\n",
              "      <th>9</th>\n",
              "      <th>...</th>\n",
              "      <th>77</th>\n",
              "      <th>78</th>\n",
              "      <th>79</th>\n",
              "      <th>80</th>\n",
              "      <th>81</th>\n",
              "      <th>82</th>\n",
              "      <th>83</th>\n",
              "      <th>84</th>\n",
              "      <th>85</th>\n",
              "      <th>86</th>\n",
              "    </tr>\n",
              "  </thead>\n",
              "  <tbody>\n",
              "    <tr>\n",
              "      <th>0</th>\n",
              "      <td>-0.323906</td>\n",
              "      <td>-0.590645</td>\n",
              "      <td>-0.777881</td>\n",
              "      <td>-0.555652</td>\n",
              "      <td>-0.049839</td>\n",
              "      <td>-0.121549</td>\n",
              "      <td>0.116590</td>\n",
              "      <td>0.029137</td>\n",
              "      <td>0.413304</td>\n",
              "      <td>0.463026</td>\n",
              "      <td>...</td>\n",
              "      <td>-0.100683</td>\n",
              "      <td>0.006228</td>\n",
              "      <td>0.136130</td>\n",
              "      <td>0.067715</td>\n",
              "      <td>0.189429</td>\n",
              "      <td>0.029376</td>\n",
              "      <td>0.458917</td>\n",
              "      <td>-0.001089</td>\n",
              "      <td>0.023733</td>\n",
              "      <td>0.199730</td>\n",
              "    </tr>\n",
              "    <tr>\n",
              "      <th>1</th>\n",
              "      <td>-0.440756</td>\n",
              "      <td>-0.501326</td>\n",
              "      <td>-0.996315</td>\n",
              "      <td>-0.488489</td>\n",
              "      <td>-0.190473</td>\n",
              "      <td>0.052967</td>\n",
              "      <td>0.130804</td>\n",
              "      <td>0.046338</td>\n",
              "      <td>0.103096</td>\n",
              "      <td>0.576044</td>\n",
              "      <td>...</td>\n",
              "      <td>-0.123482</td>\n",
              "      <td>0.012981</td>\n",
              "      <td>0.204101</td>\n",
              "      <td>-0.053930</td>\n",
              "      <td>0.051022</td>\n",
              "      <td>-0.028715</td>\n",
              "      <td>0.362782</td>\n",
              "      <td>1.490076</td>\n",
              "      <td>-0.124960</td>\n",
              "      <td>0.290407</td>\n",
              "    </tr>\n",
              "    <tr>\n",
              "      <th>2</th>\n",
              "      <td>-0.451535</td>\n",
              "      <td>-0.622857</td>\n",
              "      <td>-0.877567</td>\n",
              "      <td>-0.621880</td>\n",
              "      <td>-0.175360</td>\n",
              "      <td>-0.069148</td>\n",
              "      <td>0.025664</td>\n",
              "      <td>0.021471</td>\n",
              "      <td>0.244685</td>\n",
              "      <td>0.412359</td>\n",
              "      <td>...</td>\n",
              "      <td>-0.064980</td>\n",
              "      <td>0.001328</td>\n",
              "      <td>0.077339</td>\n",
              "      <td>0.042242</td>\n",
              "      <td>0.237944</td>\n",
              "      <td>0.221067</td>\n",
              "      <td>0.384353</td>\n",
              "      <td>0.153181</td>\n",
              "      <td>0.078877</td>\n",
              "      <td>0.264344</td>\n",
              "    </tr>\n",
              "    <tr>\n",
              "      <th>3</th>\n",
              "      <td>-0.288202</td>\n",
              "      <td>-0.650488</td>\n",
              "      <td>-0.927606</td>\n",
              "      <td>-0.563611</td>\n",
              "      <td>-0.064531</td>\n",
              "      <td>-0.114565</td>\n",
              "      <td>0.068678</td>\n",
              "      <td>0.125050</td>\n",
              "      <td>0.234311</td>\n",
              "      <td>0.433489</td>\n",
              "      <td>...</td>\n",
              "      <td>-0.068969</td>\n",
              "      <td>-0.017909</td>\n",
              "      <td>0.092764</td>\n",
              "      <td>0.055316</td>\n",
              "      <td>0.186277</td>\n",
              "      <td>0.203879</td>\n",
              "      <td>0.425155</td>\n",
              "      <td>0.058096</td>\n",
              "      <td>0.046382</td>\n",
              "      <td>0.470265</td>\n",
              "    </tr>\n",
              "    <tr>\n",
              "      <th>4</th>\n",
              "      <td>-0.373442</td>\n",
              "      <td>-0.869423</td>\n",
              "      <td>-1.349670</td>\n",
              "      <td>-1.110069</td>\n",
              "      <td>-0.112624</td>\n",
              "      <td>-0.221264</td>\n",
              "      <td>0.314691</td>\n",
              "      <td>0.296922</td>\n",
              "      <td>0.424882</td>\n",
              "      <td>0.576439</td>\n",
              "      <td>...</td>\n",
              "      <td>-0.037763</td>\n",
              "      <td>0.006266</td>\n",
              "      <td>0.196173</td>\n",
              "      <td>0.075003</td>\n",
              "      <td>0.290820</td>\n",
              "      <td>-0.156175</td>\n",
              "      <td>0.691829</td>\n",
              "      <td>-0.024050</td>\n",
              "      <td>-0.006595</td>\n",
              "      <td>0.639985</td>\n",
              "    </tr>\n",
              "  </tbody>\n",
              "</table>\n",
              "<p>5 rows × 87 columns</p>\n",
              "</div>\n",
              "      <button class=\"colab-df-convert\" onclick=\"convertToInteractive('df-955dad0f-7048-4ab2-b132-1b9c76302316')\"\n",
              "              title=\"Convert this dataframe to an interactive table.\"\n",
              "              style=\"display:none;\">\n",
              "        \n",
              "  <svg xmlns=\"http://www.w3.org/2000/svg\" height=\"24px\"viewBox=\"0 0 24 24\"\n",
              "       width=\"24px\">\n",
              "    <path d=\"M0 0h24v24H0V0z\" fill=\"none\"/>\n",
              "    <path d=\"M18.56 5.44l.94 2.06.94-2.06 2.06-.94-2.06-.94-.94-2.06-.94 2.06-2.06.94zm-11 1L8.5 8.5l.94-2.06 2.06-.94-2.06-.94L8.5 2.5l-.94 2.06-2.06.94zm10 10l.94 2.06.94-2.06 2.06-.94-2.06-.94-.94-2.06-.94 2.06-2.06.94z\"/><path d=\"M17.41 7.96l-1.37-1.37c-.4-.4-.92-.59-1.43-.59-.52 0-1.04.2-1.43.59L10.3 9.45l-7.72 7.72c-.78.78-.78 2.05 0 2.83L4 21.41c.39.39.9.59 1.41.59.51 0 1.02-.2 1.41-.59l7.78-7.78 2.81-2.81c.8-.78.8-2.07 0-2.86zM5.41 20L4 18.59l7.72-7.72 1.47 1.35L5.41 20z\"/>\n",
              "  </svg>\n",
              "      </button>\n",
              "      \n",
              "  <style>\n",
              "    .colab-df-container {\n",
              "      display:flex;\n",
              "      flex-wrap:wrap;\n",
              "      gap: 12px;\n",
              "    }\n",
              "\n",
              "    .colab-df-convert {\n",
              "      background-color: #E8F0FE;\n",
              "      border: none;\n",
              "      border-radius: 50%;\n",
              "      cursor: pointer;\n",
              "      display: none;\n",
              "      fill: #1967D2;\n",
              "      height: 32px;\n",
              "      padding: 0 0 0 0;\n",
              "      width: 32px;\n",
              "    }\n",
              "\n",
              "    .colab-df-convert:hover {\n",
              "      background-color: #E2EBFA;\n",
              "      box-shadow: 0px 1px 2px rgba(60, 64, 67, 0.3), 0px 1px 3px 1px rgba(60, 64, 67, 0.15);\n",
              "      fill: #174EA6;\n",
              "    }\n",
              "\n",
              "    [theme=dark] .colab-df-convert {\n",
              "      background-color: #3B4455;\n",
              "      fill: #D2E3FC;\n",
              "    }\n",
              "\n",
              "    [theme=dark] .colab-df-convert:hover {\n",
              "      background-color: #434B5C;\n",
              "      box-shadow: 0px 1px 3px 1px rgba(0, 0, 0, 0.15);\n",
              "      filter: drop-shadow(0px 1px 2px rgba(0, 0, 0, 0.3));\n",
              "      fill: #FFFFFF;\n",
              "    }\n",
              "  </style>\n",
              "\n",
              "      <script>\n",
              "        const buttonEl =\n",
              "          document.querySelector('#df-955dad0f-7048-4ab2-b132-1b9c76302316 button.colab-df-convert');\n",
              "        buttonEl.style.display =\n",
              "          google.colab.kernel.accessAllowed ? 'block' : 'none';\n",
              "\n",
              "        async function convertToInteractive(key) {\n",
              "          const element = document.querySelector('#df-955dad0f-7048-4ab2-b132-1b9c76302316');\n",
              "          const dataTable =\n",
              "            await google.colab.kernel.invokeFunction('convertToInteractive',\n",
              "                                                     [key], {});\n",
              "          if (!dataTable) return;\n",
              "\n",
              "          const docLinkHtml = 'Like what you see? Visit the ' +\n",
              "            '<a target=\"_blank\" href=https://colab.research.google.com/notebooks/data_table.ipynb>data table notebook</a>'\n",
              "            + ' to learn more about interactive tables.';\n",
              "          element.innerHTML = '';\n",
              "          dataTable['output_type'] = 'display_data';\n",
              "          await google.colab.output.renderOutput(dataTable, element);\n",
              "          const docLink = document.createElement('div');\n",
              "          docLink.innerHTML = docLinkHtml;\n",
              "          element.appendChild(docLink);\n",
              "        }\n",
              "      </script>\n",
              "    </div>\n",
              "  </div>\n",
              "  "
            ]
          },
          "metadata": {},
          "execution_count": 3
        }
      ]
    },
    {
      "cell_type": "code",
      "source": [
        "x = df.iloc[:,-12:]"
      ],
      "metadata": {
        "id": "CoGyFYoWNZd6"
      },
      "execution_count": 4,
      "outputs": []
    },
    {
      "cell_type": "code",
      "source": [
        "df2 = pd.concat([df2,x],axis = 1, join = \"inner\")\n",
        "df2.shape"
      ],
      "metadata": {
        "colab": {
          "base_uri": "https://localhost:8080/"
        },
        "id": "g5yVqDg6MO6A",
        "outputId": "f83f0c01-aa9d-43e0-b52a-7c99a78c37c9"
      },
      "execution_count": 5,
      "outputs": [
        {
          "output_type": "execute_result",
          "data": {
            "text/plain": [
              "(89, 99)"
            ]
          },
          "metadata": {},
          "execution_count": 5
        }
      ]
    },
    {
      "cell_type": "code",
      "source": [
        "x_all = df2.values.flatten()\n",
        "y_all = df929.values.flatten()\n",
        "\n",
        "x_prot = df2.iloc[:,0:82]\n",
        "y_prot = df929.iloc[:,0:82]\n",
        "x_pheno = df2.iloc[:,82:87]\n",
        "y_pheno = df929.iloc[:,82:87]\n",
        "plt.scatter(x_prot, y_prot, s = 15, alpha = 0.7, color=\"darkorange\",zorder=3)\n",
        "\n",
        "plt.scatter(x_pheno, y_pheno, s = 15, alpha = 0.7, color=\"bisque\",zorder=4)\n",
        "\n",
        "plt.legend([\"Linear Regression\",\"CellBox\"], loc=\"lower right\", frameon=False,\n",
        "          handletextpad=0.1)\n",
        "plt.plot([-10, 10], [-10, 10], c = 'white', alpha = 0, ls = '--')\n",
        "\n",
        "sns.regplot(x_all, y_all, scatter_kws={'s': 15, 'alpha': 0},line_kws={'color': 'orange', 'alpha': 1})\n",
        "\n",
        "\n",
        "plt.xticks(np.arange(-6,3))\n",
        "plt.yticks(np.arange(-6,3))\n",
        "\n",
        "\n",
        "lower = np.min([x_all, y_all])\n",
        "upper = np.max([x_all, y_all])\n",
        "plt.xlim([lower*1.2, upper*0.9])\n",
        "plt.ylim([lower*1.2, upper*0.9])\n",
        "\n",
        "r = np.corrcoef(x_all, y_all)[0][1]\n",
        "plt.text(x = -5.6, y= 1.6, s='Pearson\\'s correlation: ρ=%1.3f'%r,\n",
        "        size = 13)\n",
        "plt.xlabel('predicted value from linear regression')\n",
        "plt.ylabel('predicted value from CellBox')\n",
        "plt.title(\"Correlation between linear regression and CellBox across all conditions\", \n",
        "          weight='bold', size=13)\n"
      ],
      "metadata": {
        "colab": {
          "base_uri": "https://localhost:8080/",
          "height": 367
        },
        "id": "QNzt_b3hLV-R",
        "outputId": "14cac3b9-db49-4b92-c8a3-54135177317b"
      },
      "execution_count": 6,
      "outputs": [
        {
          "output_type": "stream",
          "name": "stderr",
          "text": [
            "/usr/local/lib/python3.7/dist-packages/seaborn/_decorators.py:43: FutureWarning: Pass the following variables as keyword args: x, y. From version 0.12, the only valid positional argument will be `data`, and passing other arguments without an explicit keyword will result in an error or misinterpretation.\n",
            "  FutureWarning\n"
          ]
        },
        {
          "output_type": "execute_result",
          "data": {
            "text/plain": [
              "Text(0.5, 1.0, 'Correlation between linear regression and CellBox across all conditions')"
            ]
          },
          "metadata": {},
          "execution_count": 6
        },
        {
          "output_type": "display_data",
          "data": {
            "text/plain": [
              "<Figure size 432x288 with 1 Axes>"
            ],
            "image/png": "[encoded data removed]"
          },
          "metadata": {
            "needs_background": "light"
          }
        }
      ]
    }
  ]
}