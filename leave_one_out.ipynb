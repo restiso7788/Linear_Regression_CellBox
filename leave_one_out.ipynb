{
  "nbformat": 4,
  "nbformat_minor": 0,
  "metadata": {
    "colab": {
      "name": "leave_one_out.ipynb",
      "provenance": [],
      "authorship_tag": "ABX9TyNewM8mlpwV2JUsMZkhV6ES",
      "include_colab_link": true
    },
    "kernelspec": {
      "name": "python3",
      "display_name": "Python 3"
    },
    "language_info": {
      "name": "python"
    }
  },
  "cells": [
    {
      "cell_type": "markdown",
      "metadata": {
        "id": "view-in-github",
        "colab_type": "text"
      },
      "source": [
        "<a href=\"https://colab.research.google.com/github/restiso7788/Linear_Regression_CellBox/blob/main/leave_one_out.ipynb\" target=\"_parent\"><img src=\"https://colab.research.google.com/assets/colab-badge.svg\" alt=\"Open In Colab\"/></a>"
      ]
    },
    {
      "cell_type": "code",
      "source": [
        "import pandas as pd\n",
        "import numpy as np\n",
        "from sklearn.linear_model import LinearRegression\n",
        "import statistics\n"
      ],
      "metadata": {
        "id": "0_TkCyf-gySw"
      },
      "execution_count": 1,
      "outputs": []
    },
    {
      "cell_type": "code",
      "source": [
        "df = pd.read_csv('/content/expert.csv')\n",
        "\n",
        "# leave_one drug out\n",
        "\n",
        "clf = LinearRegression()\n",
        "def linear_regression(response,train,test,tags,temp_data):\n",
        "    new_df = pd.DataFrame()\n",
        "    for i in range(response.shape[1]-12):\n",
        "        y = response.iloc[:,i]\n",
        "        train_y = y[y.index.isin(tags)]\n",
        "        test_y = y[~y.index.isin(tags)]   \n",
        "        clf.fit(train, train_y)      \n",
        "        clf_y = clf.predict(test)\n",
        "        new_reponse = test_y.name\n",
        "        new_df[new_reponse] = clf_y\n",
        "    return new_df\n",
        "\n",
        "results_dict = {}\n",
        "for i in range(-12,0):\n",
        "    col = df.columns[i]\n",
        "    \n",
        "    train = df[df[col] == 0]\n",
        "    train_tag = train.index\n",
        "    \n",
        "    X = df.iloc[:,-12:]\n",
        "    train_x = X[X.index.isin(train_tag)]\n",
        "    test_x = X[~X.index.isin(train_tag)]\n",
        "    \n",
        "    temp_data = df[~df.index.isin(train_tag)].iloc[:,:87].reset_index(drop = True)\n",
        "    \n",
        "    my_result = linear_regression(df, train_x, test_x, train_tag, temp_data)\n",
        "    my_result_x = temp_data\n",
        "    x_all = my_result_x.values.flatten()\n",
        "    my_result_y = my_result\n",
        "    y_all = my_result_y.values.flatten()\n",
        "    r = np.corrcoef(x_all, y_all)[0][1]\n",
        "    \n",
        "    results_dict[col] = r\n",
        "    \n",
        "print(results_dict)"
      ],
      "metadata": {
        "colab": {
          "base_uri": "https://localhost:8080/"
        },
        "id": "H1Zp-mDgg01G",
        "outputId": "8a00e1f5-5dc8-4657-d02d-5382faf241e0"
      },
      "execution_count": 2,
      "outputs": [
        {
          "output_type": "stream",
          "name": "stdout",
          "text": [
            "{'aMEK': 0.8203552039176905, 'aAKT': 0.6760469536146299, 'aHDAC': 0.7214189176457171, 'aMDM2': 0.9256889947226677, 'aJAK': 0.9115876220832254, 'aBRAFm': 0.8719448047546596, 'aPKC': 0.677952596450868, 'aSTAT3': 0.9021462697367114, 'amTOR': 0.5914147254624399, 'aPI3K': 0.7791282904349198, 'aCDK4': 0.6342000388819491, 'aSRC': 0.8985285213268935}\n"
          ]
        }
      ]
    },
    {
      "cell_type": "code",
      "source": [
        "values = results_dict.values()\n",
        "statistics.mean(values)"
      ],
      "metadata": {
        "colab": {
          "base_uri": "https://localhost:8080/"
        },
        "id": "810xrWpTifVq",
        "outputId": "1a7700c0-df69-4848-e1e9-5b399bc85f48"
      },
      "execution_count": 3,
      "outputs": [
        {
          "output_type": "execute_result",
          "data": {
            "text/plain": [
              "0.7842010782526977"
            ]
          },
          "metadata": {},
          "execution_count": 3
        }
      ]
    },
    {
      "cell_type": "code",
      "source": [
        "lr_result=list(results_dict.values())\n",
        "cellbox = [0.846, 0.79, 0.706, 0.888, 0.888, 0.881, 0.672, 0.549, 0.891, 0.89, 0.605, 0.756]\n",
        "statistics.mean(cellbox)        "
      ],
      "metadata": {
        "colab": {
          "base_uri": "https://localhost:8080/"
        },
        "id": "DCBprD8Jh6lf",
        "outputId": "76186811-69e6-434e-e2c9-949c9ca62f7d"
      },
      "execution_count": 4,
      "outputs": [
        {
          "output_type": "execute_result",
          "data": {
            "text/plain": [
              "0.7801666666666667"
            ]
          },
          "metadata": {},
          "execution_count": 4
        }
      ]
    },
    {
      "cell_type": "code",
      "source": [
        "#box plot between CellBox and Linear Regression\n",
        "import seaborn as sns\n",
        "import matplotlib.pyplot as plt\n",
        "f, (ax2) = plt.subplots(1,figsize = [8, 10])\n",
        "plt.gcf().subplots_adjust(bottom=0.25, wspace = 0.25)\n",
        "\n",
        "plt.gcf().subplots_adjust(bottom=0.25, wspace = 0.25)\n",
        "\n",
        "tmp_x, tmp_y = np.hstack([[2*np.ones(12), lr_result],\n",
        "                          [np.ones(12), cellbox]])\n",
        "\n",
        "sns.swarmplot(tmp_x, tmp_y, size = 9, alpha = 0.7)\n",
        "sns.boxplot(tmp_x, tmp_y, linewidth=2, width = 0.2, boxprops=dict(alpha=0.4))\n",
        "\n",
        "ax2.set_xlim(-0.5, 1.5)\n",
        "ax2.set_ylim(0, 1.08)\n",
        "ax2.set_title('Leave one drug out', \n",
        "              weight='bold', size=16)\n",
        "ax2.set_yticks([0,0.2,0.4,0.6,0.8,1.0])\n",
        "ax2.set_yticklabels([0,0.2,0.4,0.6,0.8,1.0], size=14)\n",
        "ax2.set_ylabel('Model performance (correlation)')\n",
        "ax2.set_xticks(np.arange(0,2))\n",
        "ax2.set_xticklabels(['cellbox','linear regression'])\n",
        "ax2.text(-1.1,1.1,\"B\", weight='bold')"
      ],
      "metadata": {
        "colab": {
          "base_uri": "https://localhost:8080/",
          "height": 625
        },
        "id": "yTELsFcHjwsn",
        "outputId": "99da6129-fe3c-40b3-c5e9-0eb40d175e4a"
      },
      "execution_count": 5,
      "outputs": [
        {
          "output_type": "stream",
          "name": "stderr",
          "text": [
            "/usr/local/lib/python3.7/dist-packages/seaborn/_decorators.py:43: FutureWarning: Pass the following variables as keyword args: x, y. From version 0.12, the only valid positional argument will be `data`, and passing other arguments without an explicit keyword will result in an error or misinterpretation.\n",
            "  FutureWarning\n",
            "/usr/local/lib/python3.7/dist-packages/seaborn/_decorators.py:43: FutureWarning: Pass the following variables as keyword args: x, y. From version 0.12, the only valid positional argument will be `data`, and passing other arguments without an explicit keyword will result in an error or misinterpretation.\n",
            "  FutureWarning\n"
          ]
        },
        {
          "output_type": "execute_result",
          "data": {
            "text/plain": [
              "Text(-1.1, 1.1, 'B')"
            ]
          },
          "metadata": {},
          "execution_count": 5
        },
        {
          "output_type": "display_data",
          "data": {
            "text/plain": [
              "<Figure size 576x720 with 1 Axes>"
            ],
            "image/png": "[encoded data removed]"
          },
          "metadata": {
            "needs_background": "light"
          }
        }
      ]
    },
    {
      "cell_type": "code",
      "source": [
        "range = [1,2,3,4,5,6,7,8,9,10,11,12]\n",
        "plt.scatter(range, lr_result, color='r',label = \"linear_regression\")\n",
        "plt.scatter(range, cellbox, color='y',label = \"cell_box\")\n",
        "plt.legend(loc=\"lower left\")\n",
        "plt.show()"
      ],
      "metadata": {
        "colab": {
          "base_uri": "https://localhost:8080/",
          "height": 265
        },
        "id": "1pn6NucOkBbU",
        "outputId": "e85b5756-9778-41a2-d05a-e5b1a644d40e"
      },
      "execution_count": 6,
      "outputs": [
        {
          "output_type": "display_data",
          "data": {
            "text/plain": [
              "<Figure size 432x288 with 1 Axes>"
            ],
            "image/png": "[encoded data removed]"
          },
          "metadata": {
            "needs_background": "light"
          }
        }
      ]
    },
    {
      "cell_type": "code",
      "source": [
        ""
      ],
      "metadata": {
        "id": "gEpZH_zmE3Nc"
      },
      "execution_count": null,
      "outputs": []
    }
  ]
}